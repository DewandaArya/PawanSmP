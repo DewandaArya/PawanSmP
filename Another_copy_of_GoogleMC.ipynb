{
  "nbformat": 4,
  "nbformat_minor": 0,
  "metadata": {
    "colab": {
      "provenance": [],
      "collapsed_sections": [
        "9t18CiUFbpBR",
        "vkp6VhzOSpnS",
        "6o2qy5PINBht"
      ],
      "include_colab_link": true
    },
    "kernelspec": {
      "name": "python3",
      "display_name": "Python 3"
    },
    "language_info": {
      "name": "python"
    }
  },
  "cells": [
    {
      "cell_type": "markdown",
      "metadata": {
        "id": "view-in-github",
        "colab_type": "text"
      },
      "source": [
        "<a href=\"https://colab.research.google.com/github/DewandaArya/PawanSmP/blob/main/Another_copy_of_GoogleMC.ipynb\" target=\"_parent\"><img src=\"https://colab.research.google.com/assets/colab-badge.svg\" alt=\"Open In Colab\"/></a>"
      ]
    },
    {
      "cell_type": "markdown",
      "source": [
        "# **Google Servers Minecraft Hosting**\n",
        "\n",
        "\n",
        "### **Script made by Chroma from the [playit.gg](https://playit.gg) comunity**\n",
        "### **discord: uzif, playit.gg's discord: [here](https://discord.gg/AXAbujx)**\n",
        "---\n",
        "\n",
        "+ Steps for SETUP (only do it the first time):\n",
        "\n",
        ">1. Run \"Install Java\"\n",
        "2. Run \"Setup Minecraft Server\"\n",
        "3. Run \"Setup Playit.gg\"\n",
        "\n",
        "\n",
        "\n",
        "\n",
        "+ Steps for RUNNING (Run your Minecraft Server):\n",
        "\n",
        "> 1. Run \"Start Minecraft Server\"\n",
        "\n",
        "+ Video Tutorial posted here!: https://www.youtube.com/watch?v=6OppqCutkVQ"
      ],
      "metadata": {
        "id": "9t18CiUFbpBR"
      }
    },
    {
      "cell_type": "code",
      "execution_count": null,
      "metadata": {
        "id": "x2xbhWGXOAMg",
        "colab": {
          "base_uri": "https://localhost:8080/"
        },
        "outputId": "9fdd3421-0375-4442-997b-ec746170aaa5"
      },
      "outputs": [
        {
          "output_type": "stream",
          "name": "stdout",
          "text": [
            "by Chroma\n"
          ]
        }
      ],
      "source": [
        "print(\"by Chroma\")\n"
      ]
    },
    {
      "cell_type": "markdown",
      "source": [
        "# Install Java"
      ],
      "metadata": {
        "id": "vkp6VhzOSpnS"
      }
    },
    {
      "cell_type": "code",
      "source": [
        "import os\n",
        "from google.colab import drive\n",
        "\n",
        "def install_java():\n",
        "  !sudo apt-get install openjdk-17-jre-headless &>/dev/null && echo \"Jdk17 Installed.\" || echo \"Failed to install Jdk17.\"\n",
        "  java_ver = !java -version 2>&1 | awk -F[\\\"\\.] -v OFS=. 'NR==1{print $2}'\n",
        "  if java_ver[0] == \"17\" :\n",
        "    print(\"Jdk17 is working.\")\n",
        "  else:\n",
        "    print(\"Jdk17 is not working, using \", java_ver[0])\n",
        "\n",
        "drive.mount('/content/drive')\n",
        "install_java()"
      ],
      "metadata": {
        "colab": {
          "base_uri": "https://localhost:8080/"
        },
        "outputId": "b0e3bcce-8774-4395-8708-119a47f761b6",
        "id": "nJmeqYXeSpnU"
      },
      "execution_count": 3,
      "outputs": [
        {
          "output_type": "stream",
          "name": "stdout",
          "text": [
            "Drive already mounted at /content/drive; to attempt to forcibly remount, call drive.mount(\"/content/drive\", force_remount=True).\n",
            "Jdk17 Installed.\n",
            "Jdk17 is working.\n"
          ]
        }
      ]
    },
    {
      "cell_type": "markdown",
      "source": [
        "# Setup Minecraft Server"
      ],
      "metadata": {
        "id": "6o2qy5PINBht"
      }
    },
    {
      "cell_type": "code",
      "execution_count": null,
      "metadata": {
        "colab": {
          "base_uri": "https://localhost:8080/"
        },
        "id": "vTKkhQThNBh0",
        "outputId": "6185bf51-3a5d-4482-d0bf-8acc879859f2"
      },
      "outputs": [
        {
          "output_type": "stream",
          "name": "stdout",
          "text": [
            "apt cache successfully updated\n",
            "Drive already mounted at /content/drive; to attempt to forcibly remount, call drive.mount(\"/content/drive\", force_remount=True).\n",
            "mkdir: cannot create directory ‘/content/drive/My Drive/Minecraft-server’: File exists\n",
            "/content/drive/My Drive/Minecraft-server\n",
            "\n",
            "Enter the desired Minecraft version: 1.20.1\n",
            "https://papermc.io/api/v2/projects/paper/versions/1.20.1/builds/196/downloads/paper-1.20.1-196.jar\n"
          ]
        }
      ],
      "source": [
        "import os\n",
        "import requests\n",
        "from google.colab import drive\n",
        "!sudo apt update &>/dev/null && echo \"apt cache successfully updated\" || echo \"apt cache update failed, you might receive stale packages\"\n",
        "\n",
        "def download_file(url, filename):\n",
        "    response = requests.get(url)\n",
        "    with open(filename, 'wb') as file:\n",
        "        file.write(response.content)\n",
        "\n",
        "def setup_minecraft_server(version):\n",
        "    a = requests.get(\"https://papermc.io/api/v2/projects/paper/versions/\" + version)\n",
        "    b = requests.get(\"https://papermc.io/api/v2/projects/paper/versions/\" + version + \"/builds/\" + str(a.json()[\"builds\"][-1]))\n",
        "    print(\"https://papermc.io/api/v2/projects/paper/versions/\" + version + \"/builds/\" + str(a.json()[\"builds\"][-1]) + \"/downloads/\" + b.json()[\"downloads\"][\"application\"][\"name\"])\n",
        "\n",
        "    server_jar_url = \"https://papermc.io/api/v2/projects/paper/versions/\" + version + \"/builds/\" + str(a.json()[\"builds\"][-1]) + \"/downloads/\" + b.json()[\"downloads\"][\"application\"][\"name\"]\n",
        "    download_file(server_jar_url, 'server.jar')\n",
        "    with open('eula.txt', 'w') as file:\n",
        "        file.write('eula=true')\n",
        "\n",
        "drive.mount('/content/drive')\n",
        "! mkdir \"/content/drive/My Drive/Minecraft-server\"\n",
        "%cd \"/content/drive/My Drive/Minecraft-server\"\n",
        "print()\n",
        "version = input(\"Enter the desired Minecraft version: \")\n",
        "setup_minecraft_server(version)\n",
        "\n"
      ]
    },
    {
      "cell_type": "markdown",
      "source": [
        "# Setup Playit.gg"
      ],
      "metadata": {
        "id": "GkpupdW6NTuK"
      }
    },
    {
      "cell_type": "code",
      "execution_count": null,
      "metadata": {
        "id": "jzamvo4BNTuR"
      },
      "outputs": [],
      "source": [
        "import os"
      ]
    },
    {
      "cell_type": "markdown",
      "source": [
        "# Start Minecraft Server"
      ],
      "metadata": {
        "id": "grUSdKgtOSDg"
      }
    },
    {
      "cell_type": "code",
      "source": [
        "import threading\n",
        "import os\n",
        "from google.colab import drive\n",
        "\n",
        "def run_minecraft_server():\n",
        "    ! java -jar server.jar\n",
        "\n",
        "def setup_playit():\n",
        "  print(\"Installing Playit...\")\n",
        "  os.system('curl -SsL https://playit-cloud.github.io/ppa/key.gpg | gpg --dearmor | sudo tee /etc/apt/trusted.gpg.d/playit.gpg >/dev/null')\n",
        "  os.system('echo \"deb [signed-by=/etc/apt/trusted.gpg.d/playit.gpg] https://playit-cloud.github.io/ppa/data ./\" | sudo tee /etc/apt/sources.list.d/playit-cloud.list')\n",
        "  os.system('sudo apt update')\n",
        "  os.system('sudo apt install playit')\n",
        "  !playit setup\n",
        "\n",
        "def run_playit():\n",
        "    setup_playit()\n",
        "    os.system('playit')\n",
        "\n",
        "def run_server():\n",
        "    minecraft_thread = threading.Thread(target=run_minecraft_server)\n",
        "    playit_thread = threading.Thread(target=run_playit)\n",
        "\n",
        "    minecraft_thread.start()\n",
        "    playit_thread.start()\n",
        "\n",
        "    minecraft_thread.join()\n",
        "    playit_thread.join()\n",
        "\n",
        "drive.mount('/content/drive')\n",
        "%cd \"/content/drive/My Drive/Minecraft-server\"\n",
        "run_server()"
      ],
      "metadata": {
        "id": "YfI2mUiaOSDo",
        "colab": {
          "base_uri": "https://localhost:8080/"
        },
        "outputId": "cbe07ca3-b4a6-486e-91b7-bb89f59bcdbb"
      },
      "execution_count": null,
      "outputs": [
        {
          "output_type": "stream",
          "name": "stdout",
          "text": [
            "Drive already mounted at /content/drive; to attempt to forcibly remount, call drive.mount(\"/content/drive\", force_remount=True).\n",
            "/content/drive/My Drive/Minecraft-server\n",
            "Installing Playit...\n",
            "Starting org.bukkit.craftbukkit.Main\n",
            "*** Warning, you've not updated in a while! ***\n",
            "*** Please download a new build as per instructions from https://papermc.io/downloads/paper ***\n",
            "System Info: Java 17 (OpenJDK 64-Bit Server VM 17.0.10+7-Ubuntu-122.04.1) Host: Linux 6.1.58+ (amd64)\n",
            "Loading libraries, please wait...\n",
            "\u001b[31;1m[14:35:20 ERROR]: [DirectoryProviderSource] Error loading plugin: Directory 'plugins/zItemStacker.jar' failed to load!\n",
            "java.lang.RuntimeException: Directory 'plugins/zItemStacker.jar' failed to load!\n",
            "\tat io.papermc.paper.plugin.provider.source.FileProviderSource.registerProviders(FileProviderSource.java:59) ~[paper-1.20.2.jar:git-Paper-318]\n",
            "\tat io.papermc.paper.plugin.provider.source.DirectoryProviderSource.lambda$registerProviders$1(DirectoryProviderSource.java:34) ~[paper-1.20.2.jar:git-Paper-318]\n",
            "\tat java.util.stream.ForEachOps$ForEachOp$OfRef.accept(ForEachOps.java:183) ~[?:?]\n",
            "\tat java.util.stream.ReferencePipeline$2$1.accept(ReferencePipeline.java:179) ~[?:?]\n",
            "\tat java.util.stream.ReferencePipeline$3$1.accept(ReferencePipeline.java:197) ~[?:?]\n",
            "\tat java.util.Iterator.forEachRemaining(Iterator.java:133) ~[?:?]\n",
            "\tat java.util.Spliterators$IteratorSpliterator.forEachRemaining(Spliterators.java:1845) ~[?:?]\n",
            "\tat java.util.stream.AbstractPipeline.copyInto(AbstractPipeline.java:509) ~[?:?]\n",
            "\tat java.util.stream.AbstractPipeline.wrapAndCopyInto(AbstractPipeline.java:499) ~[?:?]\n",
            "\tat java.util.stream.ForEachOps$ForEachOp.evaluateSequential(ForEachOps.java:150) ~[?:?]\n",
            "\tat java.util.stream.ForEachOps$ForEachOp$OfRef.evaluateSequential(ForEachOps.java:173) ~[?:?]\n",
            "\tat java.util.stream.AbstractPipeline.evaluate(AbstractPipeline.java:234) ~[?:?]\n",
            "\tat java.util.stream.ReferencePipeline.forEach(ReferencePipeline.java:596) ~[?:?]\n",
            "\tat io.papermc.paper.plugin.provider.source.DirectoryProviderSource.registerProviders(DirectoryProviderSource.java:32) ~[paper-1.20.2.jar:git-Paper-318]\n",
            "\tat io.papermc.paper.plugin.provider.source.DirectoryProviderSource.registerProviders(DirectoryProviderSource.java:14) ~[paper-1.20.2.jar:git-Paper-318]\n",
            "\tat io.papermc.paper.plugin.util.EntrypointUtil.registerProvidersFromSource(EntrypointUtil.java:14) ~[paper-1.20.2.jar:git-Paper-318]\n",
            "\tat io.papermc.paper.plugin.PluginInitializerManager.load(PluginInitializerManager.java:100) ~[paper-1.20.2.jar:git-Paper-318]\n",
            "\tat net.minecraft.server.Main.main(Main.java:134) ~[paper-1.20.2.jar:git-Paper-318]\n",
            "\tat org.bukkit.craftbukkit.Main.main(Main.java:325) ~[paper-1.20.2.jar:git-Paper-318]\n",
            "\tat io.papermc.paperclip.Paperclip.lambda$main$0(Paperclip.java:42) ~[app:?]\n",
            "\tat java.lang.Thread.run(Thread.java:840) ~[?:?]\n",
            "Caused by: org.bukkit.plugin.InvalidPluginException: java.util.zip.ZipException: zip END header not found\n",
            "\tat io.papermc.paper.plugin.provider.source.FileProviderSource.checkUpdate(FileProviderSource.java:95) ~[paper-1.20.2.jar:git-Paper-318]\n",
            "\tat io.papermc.paper.plugin.provider.source.FileProviderSource.registerProviders(FileProviderSource.java:49) ~[paper-1.20.2.jar:git-Paper-318]\n",
            "\t... 20 more\n",
            "Caused by: java.util.zip.ZipException: zip END header not found\n",
            "\tat java.util.zip.ZipFile$Source.findEND(ZipFile.java:1633) ~[?:?]\n",
            "\tat java.util.zip.ZipFile$Source.initCEN(ZipFile.java:1641) ~[?:?]\n",
            "\tat java.util.zip.ZipFile$Source.<init>(ZipFile.java:1479) ~[?:?]\n",
            "\tat java.util.zip.ZipFile$Source.get(ZipFile.java:1441) ~[?:?]\n",
            "\tat java.util.zip.ZipFile$CleanableResource.<init>(ZipFile.java:718) ~[?:?]\n",
            "\tat java.util.zip.ZipFile.<init>(ZipFile.java:252) ~[?:?]\n",
            "\tat java.util.zip.ZipFile.<init>(ZipFile.java:181) ~[?:?]\n",
            "\tat java.util.jar.JarFile.<init>(JarFile.java:346) ~[?:?]\n",
            "\tat java.util.jar.JarFile.<init>(JarFile.java:317) ~[?:?]\n",
            "\tat java.util.jar.JarFile.<init>(JarFile.java:283) ~[?:?]\n",
            "\tat io.papermc.paper.plugin.provider.source.FileProviderSource.getPluginName(FileProviderSource.java:101) ~[paper-1.20.2.jar:git-Paper-318]\n",
            "\tat io.papermc.paper.plugin.provider.source.FileProviderSource.checkUpdate(FileProviderSource.java:76) ~[paper-1.20.2.jar:git-Paper-318]\n",
            "\tat io.papermc.paper.plugin.provider.source.FileProviderSource.registerProviders(FileProviderSource.java:49) ~[paper-1.20.2.jar:git-Paper-318]\n",
            "\t... 20 more\n",
            "\u001b[m\u001b8\u001b[0mVisit link to setup https://playit.gg/claim/31d4a930c6[14:35:33 INFO]: Environment: Environment[accountsHost=https://api.mojang.com, sessionHost=https://sessionserver.mojang.com, servicesHost=https://api.minecraftservices.com, name=PROD]\n",
            "[14:35:37 INFO]: Loaded 1174 recipes\n",
            "[14:35:38 INFO]: Loaded 1271 advancements\n",
            "[14:35:38 INFO]: Starting minecraft server version 1.20.2\n",
            "\u001b[33;1m[14:35:38 WARN]: ****************************\n",
            "\u001b[m\u001b[33;1m[14:35:38 WARN]: YOU ARE RUNNING THIS SERVER AS AN ADMINISTRATIVE OR ROOT USER. THIS IS NOT ADVISED.\n",
            "\u001b[m\u001b[33;1m[14:35:38 WARN]: YOU ARE OPENING YOURSELF UP TO POTENTIAL RISKS WHEN DOING THIS.\n",
            "\u001b[m\u001b[33;1m[14:35:38 WARN]: FOR MORE INFORMATION, SEE https://madelinemiller.dev/blog/root-minecraft-server/\n",
            "\u001b[m\u001b[33;1m[14:35:38 WARN]: ****************************\n",
            "\u001b[m[14:35:38 INFO]: Loading properties\n",
            "[14:35:39 INFO]: This server is running Paper version git-Paper-318 (MC: 1.20.2) (Implementing API version 1.20.2-R0.1-SNAPSHOT) (Git: 9271ee7)\n",
            "[14:35:40 INFO]: Server Ping Player Sample Count: 12\n",
            "[14:35:40 INFO]: Using 4 threads for Netty based IO\n",
            "\u001b[2J\u001b8\u001b[0mVisit link to setup https://playit.gg/claim/31d4a930c6\u001b[33;1m[14:35:41 WARN]: [!] The timings profiler has been enabled but has been scheduled for removal from Paper in the future.\n",
            "    We recommend installing the spark profiler as a replacement: https://spark.lucko.me/\n",
            "    For more information please visit: https://github.com/PaperMC/Paper/issues/8948\n",
            "\u001b[m[14:35:41 INFO]: [ChunkTaskScheduler] Chunk system is using 1 I/O threads, 1 worker threads, and gen parallelism of 1 threads\n",
            "[14:35:42 INFO]: Default game type: SURVIVAL\n",
            "[14:35:42 INFO]: Generating keypair\n",
            "\u001b[K[14:35:43 INFO]: Starting Minecraft server on *:25565\n",
            "\u001b[K[14:35:43 INFO]: Using epoll channel type\n",
            "\u001b[K[14:35:43 INFO]: Paper: Using libdeflate (Linux x86_64) compression from Velocity.\n",
            "\u001b[K[14:35:43 INFO]: Paper: Using OpenSSL 3.0.x (Linux x86_64) cipher from Velocity.\n",
            "\u001b[K[14:35:46 INFO]: [ViaVersion] Loading server plugin ViaVersion v4.9.3-SNAPSHOT\n",
            "\u001b[K[14:35:46 INFO]: [ViaVersion] ViaVersion 4.9.3-SNAPSHOT is now loaded. Registering protocol transformers and injecting...\n",
            "\u001b[K[14:35:48 INFO]: [ViaVersion] Loading block connection mappings ...\n",
            "\u001b[K[14:35:49 INFO]: [LuckPerms] Loading server plugin LuckPerms v5.4.108\n",
            "\u001b[K[14:35:49 INFO]: [ViaVersion] Using FastUtil Long2ObjectOpenHashMap for block connections\n",
            "\u001b[K[14:35:50 INFO]: [Vault] Loading server plugin Vault v1.7.3-b131\n",
            "\u001b[K[14:35:50 INFO]: [floodgate] Loading server plugin floodgate v2.2.2-SNAPSHOT (b96-7f38765)\n",
            "\u001b[K[14:35:52 INFO]: [floodgate] Took 1,918ms to boot Floodgate\n",
            "\u001b[K[14:35:52 INFO]: [Multiverse-Core] Loading server plugin Multiverse-Core v4.3.12\n",
            "\u001b[K[14:35:52 INFO]: [PlaceholderAPI] Loading server plugin PlaceholderAPI v2.11.5\n",
            "\u001b[K[14:35:52 INFO]: [Essentials] Loading server plugin Essentials v2.20.1\n",
            "\u001b[K[14:35:52 INFO]: [Geyser-Spigot] Loading server plugin Geyser-Spigot v2.2.2-SNAPSHOT\n",
            "\u001b[K[14:35:53 INFO]: [Geyser-Spigot] Loading extensions...\n",
            "\u001b[K[14:35:53 INFO]: [Geyser-Spigot] Loaded 0 extension(s)\n",
            "\u001b[K[14:35:53 INFO]: [DiscordSRV] Loading server plugin DiscordSRV v1.27.0\n",
            "\u001b[K[14:35:53 INFO]: [GeyserHacks] Loading server plugin GeyserHacks v1.2-SNAPSHOT\n",
            "\u001b[K[14:35:53 INFO]: [SkinsRestorer] Loading server plugin SkinsRestorer v15.0.7\n",
            "\u001b[K[14:35:53 INFO]: [TreeAssist] Loading server plugin TreeAssist v7.3.51\n",
            "\u001b[K[14:35:53 INFO]: [TreeAssist] Loading main config file: /config.yml\n",
            "\u001b[K\u001b[33;1m[14:35:53 WARN]: [TreeAssist] Invalid Material in TreeConfig default.yml - Node Natural Blocks entry invalid: minecraft:short_grass\n",
            "\u001b[K[14:35:54 INFO]: [GriefPrevention] Loading server plugin GriefPrevention v16.18.1\n",
            "\u001b[K[14:35:54 INFO]: [ForestPlant] Loading server plugin ForestPlant vv1.0.7\n",
            "\u001b[K[14:35:54 INFO]: [SlimeablePistons] Loading server plugin SlimeablePistons v${1.1}\n",
            "\u001b[K[14:35:54 INFO]: [PlayerCheck] Loading server plugin PlayerCheck v1.0-SNAPSHOT\n",
            "\u001b[K[14:35:54 INFO]: [AngelChest] Loading server plugin AngelChest v11.0.1\n",
            "\u001b[K[14:35:54 INFO]: [Multiverse-Inventories] Loading server plugin Multiverse-Inventories v4.2.6\n",
            "\u001b[K[14:35:54 INFO]: [EssentialsChat] Loading server plugin EssentialsChat v2.20.1\n",
            "\u001b[K[14:35:54 INFO]: [ChatItem] Loading server plugin ChatItem v2.4.9\n",
            "\u001b[K[14:35:54 INFO]: [BedrockParity] Loading server plugin BedrockParity v2.0.0\n",
            "\u001b[K[14:35:54 INFO]: Server permissions file permissions.yml is empty, ignoring it\n",
            "\u001b[K[14:35:54 INFO]: [LuckPerms] Enabling LuckPerms v5.4.108\n",
            "\u001b[K[14:35:56 INFO]: \u001b[96m       \u001b[36m __    \u001b[0m\n",
            "\u001b[K[14:35:56 INFO]: \u001b[96m  |    \u001b[36m|__)   \u001b[32mLuckPerms\u001b[0m \u001b[96mv5.4.108\u001b[0m\n",
            "\u001b[K[14:35:56 INFO]: \u001b[96m  |___ \u001b[36m|      \u001b[90mRunning on Bukkit - Paper\u001b[0m\n",
            "\u001b[K[14:35:56 INFO]: \n",
            "\u001b[K[14:35:56 INFO]: [LuckPerms] Loading configuration...\n",
            "\u001b[K[14:35:56 INFO]: [LuckPerms] Loading storage provider... [H2]\n",
            "\u001b[K[14:35:58 INFO]: [LuckPerms] Loading internal permission managers...\n",
            "\u001b[K[14:35:59 INFO]: [LuckPerms] Performing initial data load...\n",
            "\u001b[K[14:36:00 INFO]: [LuckPerms] Successfully enabled. (took 5608ms)\n",
            "\u001b[K[14:36:00 INFO]: [Vault] Enabling Vault v1.7.3-b131\n",
            "\u001b[K[14:36:00 INFO]: [Vault] [Economy] Essentials Economy found: Waiting\n",
            "\u001b[K[14:36:00 INFO]: [Vault] [Permission] SuperPermissions loaded as backup permission system.\n",
            "\u001b[K[14:36:01 INFO]: [Vault] Enabled Version 1.7.3-b131\n",
            "\u001b[K[14:36:01 INFO]: [LuckPerms] Registered Vault permission & chat hook.\n",
            "\u001b[K[14:36:01 INFO]: [SkinsRestorer] Enabling SkinsRestorer v15.0.7\n",
            "\u001b[K[14:36:04 INFO]: \u001b[33;1m[\u001b[32;22mSkinsRestorer\u001b[33;1m] \u001b[0;39m\u001b[32;1mRunning on Minecraft \u001b[33;1m1.20.2\u001b[32;1m.\u001b[0;39m\n",
            "\u001b[K[14:36:05 INFO]: [PlaceholderAPI] Successfully registered internal expansion: skinsrestorer [15.0.7]\n",
            "\u001b[K[14:36:05 INFO]: \u001b[33;1m[\u001b[32;22mSkinsRestorer\u001b[33;1m] \u001b[0;39mPlaceholderAPI expansion registered!\u001b[0;39m\n",
            "\u001b[K[14:36:05 INFO]: \u001b[33;1m[\u001b[32;22mSkinsRestorer\u001b[33;1m] \u001b[0;39mUsing paper join listener!\u001b[0;39m\n",
            "\u001b[K[14:36:05 INFO]: \u001b[33;1m[\u001b[32;22mSkinsRestorer\u001b[33;1m] \u001b[0;39mFloodgate skin listener registered\u001b[0;39m\n",
            "\u001b[K\u001b[33;1m[14:36:05 WARN]: **** SERVER IS RUNNING IN OFFLINE/INSECURE MODE!\n",
            "\u001b[K\u001b[33;1m[14:36:05 WARN]: The server will make no attempt to authenticate usernames. Beware.\n",
            "\u001b[K\u001b[33;1m[14:36:05 WARN]: While this makes the game possible to play without internet access, it also opens up the ability for hackers to connect with any username they choose.\n",
            "\u001b[K\u001b[33;1m[14:36:05 WARN]: To change this, set \"online-mode\" to \"true\" in the server.properties file.\n",
            "\u001b[K[14:36:05 INFO]: Preparing level \"current\"\n",
            "\u001b[K[14:36:05 INFO]: \u001b[33;1m[\u001b[32;22mSkinsRestorer\u001b[33;1m] \u001b[0;39m\u001b[32;1m----------------------------------------------\u001b[0;39m\n",
            "\u001b[K[14:36:05 INFO]: \u001b[33;1m[\u001b[32;22mSkinsRestorer\u001b[33;1m] \u001b[0;39m\u001b[32;1m    +==================+\u001b[0;39m\n",
            "\u001b[K[14:36:05 INFO]: \u001b[33;1m[\u001b[32;22mSkinsRestorer\u001b[33;1m] \u001b[0;39m\u001b[32;1m    |   SkinsRestorer  |\u001b[0;39m\n",
            "\u001b[K[14:36:05 INFO]: \u001b[33;1m[\u001b[32;22mSkinsRestorer\u001b[33;1m] \u001b[0;39m\u001b[32;1m    |------------------|\u001b[0;39m\n",
            "\u001b[K[14:36:05 INFO]: \u001b[33;1m[\u001b[32;22mSkinsRestorer\u001b[33;1m] \u001b[0;39m\u001b[32;1m    |  \u001b[34;1m\u001b[4m\u001b[21mStandalone Mode\u001b[0;39m\u001b[32;1m |\u001b[0;39m\n",
            "\u001b[K[14:36:05 INFO]: \u001b[33;1m[\u001b[32;22mSkinsRestorer\u001b[33;1m] \u001b[0;39m\u001b[32;1m    +==================+\u001b[0;39m\n",
            "\u001b[K[14:36:05 INFO]: \u001b[33;1m[\u001b[32;22mSkinsRestorer\u001b[33;1m] \u001b[0;39m\u001b[32;1m----------------------------------------------\u001b[0;39m\n",
            "\u001b[K[14:36:05 INFO]: \u001b[33;1m[\u001b[32;22mSkinsRestorer\u001b[33;1m] \u001b[0;39m\u001b[36;1m    Version: \u001b[32;1m15.0.7\u001b[0;39m\n",
            "\u001b[K[14:36:05 INFO]: \u001b[33;1m[\u001b[32;22mSkinsRestorer\u001b[33;1m] \u001b[0;39m\u001b[36;1m    Commit: \u001b[32;1m301d078\u001b[0;39m\n",
            "\u001b[K[14:36:05 INFO]: \u001b[33;1m[\u001b[32;22mSkinsRestorer\u001b[33;1m] \u001b[0;39m\u001b[32;1m    This is the latest version!\u001b[0;39m\n",
            "\u001b[K[14:36:05 INFO]: \u001b[33;1m[\u001b[32;22mSkinsRestorer\u001b[33;1m] \u001b[0;39m\u001b[32;1m----------------------------------------------\u001b[0;39m\n",
            "\u001b[K[14:36:06 INFO]: Preparing start region for dimension minecraft:overworld\n",
            "\u001b[K[14:36:07 INFO]: Time elapsed: 670 ms\n",
            "\u001b[K[14:36:07 INFO]: Preparing start region for dimension minecraft:the_nether\n",
            "\u001b[K[14:36:07 INFO]: Time elapsed: 177 ms\n",
            "\u001b[K[14:36:07 INFO]: Preparing start region for dimension minecraft:the_end\n",
            "\u001b[K[14:36:07 INFO]: Time elapsed: 182 ms\n",
            "\u001b[K[14:36:07 INFO]: [ViaVersion] Enabling ViaVersion v4.9.3-SNAPSHOT\n",
            "\u001b[K[14:36:07 INFO]: [ViaVersion] ViaVersion detected server version: 1.20.2 (764)\n",
            "\u001b[K[14:36:07 INFO]: [floodgate] Enabling floodgate v2.2.2-SNAPSHOT (b96-7f38765)\n",
            "\u001b[K[14:36:09 INFO]: [Multiverse-Core] Enabling Multiverse-Core v4.3.12\n",
            "\u001b[K\u001b[33;1m[14:36:09 WARN]: [Multiverse-Core] \"Multiverse-Core v4.3.12\" has registered a listener for org.bukkit.event.entity.EntityCreatePortalEvent on method \"public void com.onarandombox.MultiverseCore.listeners.MVPortalListener.entityPortalCreate(org.bukkit.event.entity.EntityCreatePortalEvent)\", but the event is Deprecated. \"Server performance will be affected\"; please notify the authors [dumptruckman, Rigby, fernferret, lithium3141, main--].\n",
            "\u001b[K[14:36:09 INFO]: [Multiverse-Core] §aWe are aware of the warning about the deprecated event. There is no alternative that allows us to do what we need to do and performance impact is negligible. It is safe to ignore.\n",
            "\u001b[K[14:36:09 INFO]: [Multiverse-Core] 3 - World(s) loaded.\n",
            "\u001b[K\u001b[33;1m[14:36:09 WARN]: [Multiverse-Core] Buscript failed to load! The script command will be disabled! If you would like not to see this message, use `/mv conf enablebuscript false` to disable Buscript from loading.\n",
            "\u001b[K[14:36:09 INFO]: [Multiverse-Core] Version 4.3.12 (API v24) Enabled - By dumptruckman, Rigby, fernferret, lithium3141 and main--\n",
            "\u001b[K[14:36:09 INFO]: [PlaceholderAPI] Enabling PlaceholderAPI v2.11.5\n",
            "\u001b[K[14:36:10 INFO]: [PlaceholderAPI] Fetching available expansion information...\n",
            "\u001b[K[14:36:11 INFO]: [Essentials] Enabling Essentials v2.20.1\n",
            "\u001b[K\u001b[31;1m[14:36:11 ERROR]: [Essentials] You are running an unsupported server version!\n",
            "\u001b[K[14:36:12 INFO]: [Essentials] Attempting to convert old kits in config.yml to new kits.yml\n",
            "\u001b[K[14:36:12 INFO]: [Essentials] No kits found to migrate.\n",
            "\u001b[K[14:36:13 INFO]: [Essentials] Loaded 39094 items from items.json.\n",
            "\u001b[K[14:36:13 INFO]: [Essentials] Using locale en_US\n",
            "\u001b[K[14:36:13 INFO]: [Essentials] ServerListPingEvent: Spigot iterator API\n",
            "\u001b[K[14:36:13 INFO]: [Essentials] Starting Metrics. Opt-out using the global bStats config.\n",
            "\u001b[K[14:36:13 INFO]: [Vault] [Economy] Essentials Economy hooked.\n",
            "\u001b[K[14:36:13 INFO]: [Essentials] Using Vault based permissions (LuckPerms)\n",
            "\u001b[K[14:36:13 INFO]: [Geyser-Spigot] Enabling Geyser-Spigot v2.2.2-SNAPSHOT\n",
            "\u001b[K[14:36:14 INFO]: [DiscordSRV] Enabling DiscordSRV v1.27.0\n",
            "\u001b[K[14:36:14 INFO]: [GeyserHacks] Enabling GeyserHacks v1.2-SNAPSHOT\n",
            "\u001b[K[14:36:16 INFO]: [GeyserHacks] Bamboo collision hack enabled.\n",
            "\u001b[K[14:36:16 INFO]: [GeyserHacks] Dripstone collision hack enabled.\n",
            "\u001b[K\u001b[33;1m[14:36:16 WARN]: [GeyserHacks] This Minecraft server version does not support the item steerable workaround!\n",
            "\u001b[K[14:36:16 INFO]: [TreeAssist] Enabling TreeAssist v7.3.51\n",
            "\u001b[K[14:36:16 INFO]: [TreeAssist] sending full Metrics! You can deactivate this in the config.yml\n",
            "\u001b[K[14:36:16 INFO]: [TreeAssist] debugging: off\n",
            "\u001b[K[14:36:17 INFO]: [PlaceholderAPI] Successfully registered internal expansion: ta [0.0.1]\n",
            "\u001b[K[14:36:17 INFO]: [TreeAssist] Checking for updates...\n",
            "\u001b[K[14:36:17 INFO]: [GriefPrevention] Enabling GriefPrevention v16.18.1\n",
            "\u001b[K[14:36:17 INFO]: [GriefPrevention] Finished loading configuration.\n",
            "\u001b[K[14:36:17 INFO]: [GriefPrevention] 1 total claims loaded.\n",
            "\u001b[K[14:36:18 INFO]: [GriefPrevention] Customizable messages loaded.\n",
            "\u001b[K[14:36:18 INFO]: [DiscordSRV] DiscordSRV is up-to-date. (6405e850eea61a4b9bf4f0d0cbb80fe20b3cfb90)\n",
            "\u001b[K[14:36:18 INFO]: [GriefPrevention] Finished loading data (File Mode).\n",
            "\u001b[K[14:36:19 INFO]: [GriefPrevention] Boot finished.\n",
            "\u001b[K[14:36:19 INFO]: [ForestPlant] Enabling ForestPlant vv1.0.7\n",
            "\u001b[K[14:36:19 INFO]: \u001b[96m[ForestPlant] INFO : Using lang 'en'\u001b[0m\n",
            "\u001b[K[14:36:19 INFO]: \u001b[96m[ForestPlant] INFO : messages_en.yml loaded successfully!\u001b[0m\n",
            "\u001b[K[14:36:19 INFO]: [SlimeablePistons] Enabling SlimeablePistons v${1.1}\n",
            "\u001b[K[14:36:19 INFO]: [PlayerCheck] Enabling PlayerCheck v1.0-SNAPSHOT\n",
            "\u001b[K[14:36:19 INFO]: [AngelChest] Enabling AngelChest v11.0.1\n",
            "\u001b[K[14:36:20 INFO]: [AngelChest] groups.yml does not exist, skipping custom group settings.\n",
            "\u001b[K[14:36:20 INFO]: [AngelChest] blacklist.yml does not exist, disabling item blacklist.\n",
            "\u001b[K[14:36:20 INFO]: [AngelChest] Not using premium version, disabling Graveyards feature\n",
            "\u001b[K[14:36:20 INFO]: [PlaceholderAPI] Successfully registered internal expansion: angelchest [GENERIC]\n",
            "\u001b[K[14:36:20 INFO]: [AngelChest] Successfully hooked into Vault and the EconomyProvider, enabling economy functions.\n",
            "\u001b[K[14:36:20 INFO]: [DiscordSRV] [JDA] Login Successful!\n",
            "\u001b[K[14:36:20 INFO]: [AngelChest] [ACF] Enabled Asynchronous Tab Completion Support!\n",
            "\u001b[K[14:36:20 INFO]: [AngelChest] Successfully enabled AngelChest v11.0.1 (Premium: false)\n",
            "\u001b[K[14:36:20 INFO]: [Multiverse-Inventories] Enabling Multiverse-Inventories v4.2.6\n",
            "\u001b[K[14:36:20 INFO]: [Multiverse-Inventories 4.2.6] enabled.\n",
            "\u001b[K[14:36:20 INFO]: [EssentialsChat] Enabling EssentialsChat v2.20.1\n",
            "\u001b[K[14:36:20 INFO]: [EssentialsChat] Starting Metrics. Opt-out using the global bStats config.\n",
            "\u001b[K[14:36:21 INFO]: [ChatItem] Enabling ChatItem v2.4.9\n",
            "\u001b[K[14:36:21 INFO]: [ChatItem] Detected server version: v1_20\n",
            "\u001b[K[14:36:21 INFO]: [DiscordSRV] [JDA] Connected to WebSocket\n",
            "\u001b[K[14:36:21 INFO]: [ChatItem] Loading own packet system.\n",
            "\u001b[K[14:36:21 INFO]: [ChatItem] Loaded 3 getter for base components.\n",
            "\u001b[K[14:36:21 INFO]: [ChatItem] Save method founded: b. Use ComponentBuilder's method.\n",
            "\u001b[K[14:36:21 INFO]: [ChatItem] Manager automatically chosen: PacketEditing (packet), ChatListener (chat)\n",
            "\u001b[K[14:36:21 INFO]: [ChatItem] Load DiscordSRV support.\n",
            "\u001b[K[14:36:21 INFO]: [DiscordSRV] [JDA] Finished Loading!\n",
            "\u001b[K[14:36:22 INFO]: [DiscordSRV] Found server G:🌸Pawan'SMP(1152814325111722115)\n",
            "\u001b[K[14:36:22 INFO]: [DiscordSRV] - TC:moderator-only(1170360612866502776)\n",
            "\u001b[K[14:36:22 INFO]: [DiscordSRV] - TC:deathboard-deathskul(1213396173168320522)\n",
            "\u001b[K[14:36:22 INFO]: [DiscordSRV] - TC:server-console(1179704250822037565)\n",
            "\u001b[K[14:36:22 INFO]: [DiscordSRV] - TC:📢╎announcements(1152817344138182657)\n",
            "\u001b[K[14:36:22 INFO]: [DiscordSRV] - TC:ℹ╎info(1152856245498294282)\n",
            "\u001b[K[14:36:22 INFO]: [DiscordSRV] - TC:🌸╎ingame-relay🗨(1179704075248476170)\n",
            "\u001b[K[14:36:22 INFO]: [DiscordSRV] - TC:🛒╎shop-transactions(1171827779394875455)\n",
            "\u001b[K[14:36:22 INFO]: [DiscordSRV] - TC:🎮╎off-topic(1155496164834152528)\n",
            "\u001b[K[14:36:22 INFO]: [DiscordSRV] - TC:🎬╎clips-and-highlights(1152814325644415062)\n",
            "\u001b[K[14:36:22 INFO]: [DiscordSRV] - TC:dgc(1154696294871339100)\n",
            "\u001b[K[14:36:22 INFO]: [DiscordSRV] Console forwarding assigned to channel TC:server-console(1179704250822037565)\n",
            "\u001b[K[14:36:22 INFO]: [DiscordSRV] Enabling Essentials hook\n",
            "\u001b[K[14:36:22 INFO]: [DiscordSRV] Enabling LuckPerms hook\n",
            "\u001b[K[14:36:22 INFO]: [DiscordSRV] Enabling PlaceholderAPI hook\n",
            "\u001b[K[14:36:22 INFO]: [DiscordSRV] Enabling voice module\n",
            "\u001b[K[14:36:23 INFO]: [ChatItem] Loaded translation for en_gb.\n",
            "\u001b[K[14:36:23 INFO]: [BedrockParity] Enabling BedrockParity v2.0.0\n",
            "\u001b[K[14:36:23 INFO]: [BedrockParity] Sweeping Edge Book Fix in Anvil is enabled.\n",
            "\u001b[K[14:36:23 INFO]: [BedrockParity] Animating Heads for Bedrock Players is enabled.\n",
            "\u001b[K[14:36:23 INFO]: [ChatItem] §cA new version of ChatItem is available. §aClick here to download.\n",
            "\u001b[K[14:36:24 INFO]: [PlaceholderAPI] Placeholder expansion registration initializing...\n",
            "\u001b[K[14:36:24 INFO]: [Geyser-Spigot] ******************************************\n",
            "\u001b[K[14:36:24 INFO]: [Geyser-Spigot] \n",
            "\u001b[K[14:36:24 INFO]: [Geyser-Spigot] Loading Geyser version 2.2.2-SNAPSHOT (git-master-f8e6d26)\n",
            "\u001b[K[14:36:24 INFO]: [Geyser-Spigot] \n",
            "\u001b[K[14:36:24 INFO]: [Geyser-Spigot] ******************************************\n",
            "\u001b[K[14:36:41 INFO]: [Geyser-Spigot] Started Geyser on 0.0.0.0:19132\n",
            "\u001b[K[14:36:41 INFO]: [Geyser-Spigot] Done (16.807s)! Run /geyser help for help!\n",
            "\u001b[K[14:36:42 INFO]: Starting GS4 status listener\n",
            "\u001b[K[14:36:42 INFO]: Thread Query Listener started\n",
            "\u001b[K[14:36:42 INFO]: Query running on 0.0.0.0:25565\n",
            "\u001b[K[14:36:42 INFO]: Running delayed init tasks\n",
            "\u001b[K[14:36:42 INFO]: [Essentials] Essentials found a compatible payment resolution method: Vault Compatibility Layer (v1.7.3-b131)!\n",
            "\u001b[K[14:36:42 INFO]: [ViaVersion] Finished mapping loading, shutting down loader executor!\n",
            "\u001b[K[14:36:42 INFO]: \u001b[33m0 placeholder hook(s) registered!\u001b[0m\n",
            "\u001b[K[14:36:42 INFO]: [Essentials] \u001b[33mFetching version information...\u001b[0m\n",
            "\u001b[K[14:36:42 INFO]: [Multiverse-Inventories] First run!\n",
            "\u001b[K[14:36:42 INFO]: [Vault] Checking for Updates ... \n",
            "\u001b[K[14:36:42 INFO]: Done (63.332s)! For help, type \"help\"\n",
            "\u001b[K[14:36:42 INFO]: Timings Reset\n",
            "\u001b[K[14:36:42 INFO]: [PlaceholderAPI] Successfully registered internal expansion: discordsrv [1.27.0]\n",
            "\u001b[K\u001b[33;1m[14:36:42 WARN]: [Vault] No files found, or Feed URL is bad.\n",
            "\u001b[K[14:36:42 INFO]: [Vault] No new version available\n",
            "\u001b[K\u001b[33;1m[14:36:42 WARN]: [ViaVersion] You are running a development version of the plugin, please report any bugs to GitHub.\n",
            "\u001b[K[14:36:42 INFO]: [DiscordSRV] Cleared all pre-existing slash commands in 1/1 guilds (0 cancelled)\n",
            "\u001b[K[14:36:48 INFO]: [AngelChest] ========================================================\n",
            "\u001b[K[14:36:48 INFO]: [AngelChest] You are using the free version of AngelChest. There is\n",
            "\u001b[K[14:36:48 INFO]: [AngelChest] also a premium version available, called AngelChestPlus.\n",
            "\u001b[K[14:36:48 INFO]: [AngelChest] It includes TONS of new features and exclusive Discord\n",
            "\u001b[K[14:36:48 INFO]: [AngelChest] support. The free version will still receive bugfixes,\n",
            "\u001b[K[14:36:48 INFO]: [AngelChest] but there won't be ANY new features!\n",
            "\u001b[K[14:36:48 INFO]: [AngelChest] If you like AngelChest, you will LOVE AngelChestPlus, so\n",
            "\u001b[K[14:36:48 INFO]: [AngelChest] please consider upgrading! Thank you for using AngelChest.\n",
            "\u001b[K[14:36:48 INFO]: [AngelChest] \n",
            "\u001b[K[14:36:48 INFO]: [AngelChest] https://www.spigotmc.org/resources/88214\n",
            "\u001b[K[14:36:48 INFO]: [AngelChest] ========================================================\n",
            "\u001b[K[14:37:05 INFO]: [DiscordSRV] Chat: [Discord | YouTuber] IFD Gaming | Youtuber > no ip be liek\n",
            "\u001b[K[14:37:44 INFO]: [DiscordSRV] Chat: [Discord | ᴀʀʏᴀ] Arya > WHY it alwayS LOGOUT MW\n",
            "\u001b[K[14:37:58 INFO]: [DiscordSRV] Chat: [Discord | YouTuber] IFD Gaming | Youtuber > big skell\n",
            "\u001b[K[14:39:41 INFO]: [DiscordSRV] Chat: [Discord | ᴀʀʏᴀ] Arya > Here IPv4\n",
            "\u001b[K[14:39:43 INFO]: [DiscordSRV] Chat: [Discord | ᴀʀʏᴀ] Arya > 147.185.221.18:17826\n",
            "\u001b[K[14:40:42 INFO]: [DiscordSRV] Chat: [Discord | YouTuber] IFD Gaming | Youtuber > why it chang\n",
            "\u001b[K[14:40:48 INFO]: [DiscordSRV] Chat: [Discord | ᴀʀʏᴀ] Arya > i have no idea\n",
            "\u001b[K[14:40:52 INFO]: [DiscordSRV] Chat: [Discord | ᴀʀʏᴀ] Arya > i might ask for help\n",
            "\u001b[K[14:40:57 INFO]: [DiscordSRV] Chat: [Discord | ᴀʀʏᴀ] Arya > tomorrow\n",
            "\u001b[K[14:41:03 INFO]: [DiscordSRV] Chat: [Discord | YouTuber] IFD Gaming | Youtuber > :whatyoulookinat:\n",
            "\u001b[K[14:41:28 INFO]: [DiscordSRV] Chat: [Discord | ᴀʀʏᴀ] Arya > do you know what is a Github Gist\n",
            "\u001b[K[14:42:12 INFO]: [DiscordSRV] Chat: [Discord | YouTuber] IFD Gaming | Youtuber > nuh\n",
            ">...."
          ]
        }
      ]
    }
  ]
}